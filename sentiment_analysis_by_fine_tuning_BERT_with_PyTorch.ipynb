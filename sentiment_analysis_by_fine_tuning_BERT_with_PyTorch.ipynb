{
  "nbformat": 4,
  "nbformat_minor": 0,
  "metadata": {
    "colab": {
      "provenance": [],
      "gpuType": "T4",
      "mount_file_id": "1DXC8bxNnrdUSlO6rcxVIsh5tcoKfd1us",
      "authorship_tag": "ABX9TyMedfLPuzFDmg/V/XAuU3GJ"
    },
    "kernelspec": {
      "name": "python3",
      "display_name": "Python 3"
    },
    "language_info": {
      "name": "python"
    },
    "accelerator": "GPU"
  },
  "cells": [
    {
      "cell_type": "code",
      "execution_count": 1,
      "metadata": {
        "id": "rlpcrs86-HW1"
      },
      "outputs": [],
      "source": [
        "import pandas as pd\n",
        "import numpy as np\n",
        "from sklearn.model_selection import train_test_split\n",
        "from transformers import AutoModel, BertTokenizerFast\n",
        "import matplotlib.pyplot as plt\n",
        "import torch\n",
        "import torch.nn as nn\n",
        "from sklearn.metrics import classification_report\n",
        "from sklearn.metrics import accuracy_score"
      ]
    },
    {
      "cell_type": "code",
      "source": [
        "# Load data\n",
        "df = pd.read_csv('drive/MyDrive/sentiment.csv')\n",
        "df.head()"
      ],
      "metadata": {
        "colab": {
          "base_uri": "https://localhost:8080/",
          "height": 206
        },
        "id": "GTQINdE8Ca_9",
        "outputId": "3e33bedd-e0c6-4f38-eff9-8f3df74971d7"
      },
      "execution_count": 2,
      "outputs": [
        {
          "output_type": "execute_result",
          "data": {
            "text/plain": [
              "                                            sentence  label\n",
              "0    Ok brokeback mountain is such a horrible movie.      0\n",
              "1                 Brokeback Mountain was so awesome.      1\n",
              "2  friday hung out with kelsie and we went and sa...      0\n",
              "3  I am going to start reading the Harry Potter s...      1\n",
              "4       Is it just me, or does Harry Potter suck?...      0"
            ],
            "text/html": [
              "\n",
              "  <div id=\"df-5a4bc12b-5d2b-4c04-9d65-6d2a2cb45a03\" class=\"colab-df-container\">\n",
              "    <div>\n",
              "<style scoped>\n",
              "    .dataframe tbody tr th:only-of-type {\n",
              "        vertical-align: middle;\n",
              "    }\n",
              "\n",
              "    .dataframe tbody tr th {\n",
              "        vertical-align: top;\n",
              "    }\n",
              "\n",
              "    .dataframe thead th {\n",
              "        text-align: right;\n",
              "    }\n",
              "</style>\n",
              "<table border=\"1\" class=\"dataframe\">\n",
              "  <thead>\n",
              "    <tr style=\"text-align: right;\">\n",
              "      <th></th>\n",
              "      <th>sentence</th>\n",
              "      <th>label</th>\n",
              "    </tr>\n",
              "  </thead>\n",
              "  <tbody>\n",
              "    <tr>\n",
              "      <th>0</th>\n",
              "      <td>Ok brokeback mountain is such a horrible movie.</td>\n",
              "      <td>0</td>\n",
              "    </tr>\n",
              "    <tr>\n",
              "      <th>1</th>\n",
              "      <td>Brokeback Mountain was so awesome.</td>\n",
              "      <td>1</td>\n",
              "    </tr>\n",
              "    <tr>\n",
              "      <th>2</th>\n",
              "      <td>friday hung out with kelsie and we went and sa...</td>\n",
              "      <td>0</td>\n",
              "    </tr>\n",
              "    <tr>\n",
              "      <th>3</th>\n",
              "      <td>I am going to start reading the Harry Potter s...</td>\n",
              "      <td>1</td>\n",
              "    </tr>\n",
              "    <tr>\n",
              "      <th>4</th>\n",
              "      <td>Is it just me, or does Harry Potter suck?...</td>\n",
              "      <td>0</td>\n",
              "    </tr>\n",
              "  </tbody>\n",
              "</table>\n",
              "</div>\n",
              "    <div class=\"colab-df-buttons\">\n",
              "\n",
              "  <div class=\"colab-df-container\">\n",
              "    <button class=\"colab-df-convert\" onclick=\"convertToInteractive('df-5a4bc12b-5d2b-4c04-9d65-6d2a2cb45a03')\"\n",
              "            title=\"Convert this dataframe to an interactive table.\"\n",
              "            style=\"display:none;\">\n",
              "\n",
              "  <svg xmlns=\"http://www.w3.org/2000/svg\" height=\"24px\" viewBox=\"0 -960 960 960\">\n",
              "    <path d=\"M120-120v-720h720v720H120Zm60-500h600v-160H180v160Zm220 220h160v-160H400v160Zm0 220h160v-160H400v160ZM180-400h160v-160H180v160Zm440 0h160v-160H620v160ZM180-180h160v-160H180v160Zm440 0h160v-160H620v160Z\"/>\n",
              "  </svg>\n",
              "    </button>\n",
              "\n",
              "  <style>\n",
              "    .colab-df-container {\n",
              "      display:flex;\n",
              "      gap: 12px;\n",
              "    }\n",
              "\n",
              "    .colab-df-convert {\n",
              "      background-color: #E8F0FE;\n",
              "      border: none;\n",
              "      border-radius: 50%;\n",
              "      cursor: pointer;\n",
              "      display: none;\n",
              "      fill: #1967D2;\n",
              "      height: 32px;\n",
              "      padding: 0 0 0 0;\n",
              "      width: 32px;\n",
              "    }\n",
              "\n",
              "    .colab-df-convert:hover {\n",
              "      background-color: #E2EBFA;\n",
              "      box-shadow: 0px 1px 2px rgba(60, 64, 67, 0.3), 0px 1px 3px 1px rgba(60, 64, 67, 0.15);\n",
              "      fill: #174EA6;\n",
              "    }\n",
              "\n",
              "    .colab-df-buttons div {\n",
              "      margin-bottom: 4px;\n",
              "    }\n",
              "\n",
              "    [theme=dark] .colab-df-convert {\n",
              "      background-color: #3B4455;\n",
              "      fill: #D2E3FC;\n",
              "    }\n",
              "\n",
              "    [theme=dark] .colab-df-convert:hover {\n",
              "      background-color: #434B5C;\n",
              "      box-shadow: 0px 1px 3px 1px rgba(0, 0, 0, 0.15);\n",
              "      filter: drop-shadow(0px 1px 2px rgba(0, 0, 0, 0.3));\n",
              "      fill: #FFFFFF;\n",
              "    }\n",
              "  </style>\n",
              "\n",
              "    <script>\n",
              "      const buttonEl =\n",
              "        document.querySelector('#df-5a4bc12b-5d2b-4c04-9d65-6d2a2cb45a03 button.colab-df-convert');\n",
              "      buttonEl.style.display =\n",
              "        google.colab.kernel.accessAllowed ? 'block' : 'none';\n",
              "\n",
              "      async function convertToInteractive(key) {\n",
              "        const element = document.querySelector('#df-5a4bc12b-5d2b-4c04-9d65-6d2a2cb45a03');\n",
              "        const dataTable =\n",
              "          await google.colab.kernel.invokeFunction('convertToInteractive',\n",
              "                                                    [key], {});\n",
              "        if (!dataTable) return;\n",
              "\n",
              "        const docLinkHtml = 'Like what you see? Visit the ' +\n",
              "          '<a target=\"_blank\" href=https://colab.research.google.com/notebooks/data_table.ipynb>data table notebook</a>'\n",
              "          + ' to learn more about interactive tables.';\n",
              "        element.innerHTML = '';\n",
              "        dataTable['output_type'] = 'display_data';\n",
              "        await google.colab.output.renderOutput(dataTable, element);\n",
              "        const docLink = document.createElement('div');\n",
              "        docLink.innerHTML = docLinkHtml;\n",
              "        element.appendChild(docLink);\n",
              "      }\n",
              "    </script>\n",
              "  </div>\n",
              "\n",
              "\n",
              "<div id=\"df-19056dc5-f400-4cfb-b56b-5ec3e76c1882\">\n",
              "  <button class=\"colab-df-quickchart\" onclick=\"quickchart('df-19056dc5-f400-4cfb-b56b-5ec3e76c1882')\"\n",
              "            title=\"Suggest charts\"\n",
              "            style=\"display:none;\">\n",
              "\n",
              "<svg xmlns=\"http://www.w3.org/2000/svg\" height=\"24px\"viewBox=\"0 0 24 24\"\n",
              "     width=\"24px\">\n",
              "    <g>\n",
              "        <path d=\"M19 3H5c-1.1 0-2 .9-2 2v14c0 1.1.9 2 2 2h14c1.1 0 2-.9 2-2V5c0-1.1-.9-2-2-2zM9 17H7v-7h2v7zm4 0h-2V7h2v10zm4 0h-2v-4h2v4z\"/>\n",
              "    </g>\n",
              "</svg>\n",
              "  </button>\n",
              "\n",
              "<style>\n",
              "  .colab-df-quickchart {\n",
              "      --bg-color: #E8F0FE;\n",
              "      --fill-color: #1967D2;\n",
              "      --hover-bg-color: #E2EBFA;\n",
              "      --hover-fill-color: #174EA6;\n",
              "      --disabled-fill-color: #AAA;\n",
              "      --disabled-bg-color: #DDD;\n",
              "  }\n",
              "\n",
              "  [theme=dark] .colab-df-quickchart {\n",
              "      --bg-color: #3B4455;\n",
              "      --fill-color: #D2E3FC;\n",
              "      --hover-bg-color: #434B5C;\n",
              "      --hover-fill-color: #FFFFFF;\n",
              "      --disabled-bg-color: #3B4455;\n",
              "      --disabled-fill-color: #666;\n",
              "  }\n",
              "\n",
              "  .colab-df-quickchart {\n",
              "    background-color: var(--bg-color);\n",
              "    border: none;\n",
              "    border-radius: 50%;\n",
              "    cursor: pointer;\n",
              "    display: none;\n",
              "    fill: var(--fill-color);\n",
              "    height: 32px;\n",
              "    padding: 0;\n",
              "    width: 32px;\n",
              "  }\n",
              "\n",
              "  .colab-df-quickchart:hover {\n",
              "    background-color: var(--hover-bg-color);\n",
              "    box-shadow: 0 1px 2px rgba(60, 64, 67, 0.3), 0 1px 3px 1px rgba(60, 64, 67, 0.15);\n",
              "    fill: var(--button-hover-fill-color);\n",
              "  }\n",
              "\n",
              "  .colab-df-quickchart-complete:disabled,\n",
              "  .colab-df-quickchart-complete:disabled:hover {\n",
              "    background-color: var(--disabled-bg-color);\n",
              "    fill: var(--disabled-fill-color);\n",
              "    box-shadow: none;\n",
              "  }\n",
              "\n",
              "  .colab-df-spinner {\n",
              "    border: 2px solid var(--fill-color);\n",
              "    border-color: transparent;\n",
              "    border-bottom-color: var(--fill-color);\n",
              "    animation:\n",
              "      spin 1s steps(1) infinite;\n",
              "  }\n",
              "\n",
              "  @keyframes spin {\n",
              "    0% {\n",
              "      border-color: transparent;\n",
              "      border-bottom-color: var(--fill-color);\n",
              "      border-left-color: var(--fill-color);\n",
              "    }\n",
              "    20% {\n",
              "      border-color: transparent;\n",
              "      border-left-color: var(--fill-color);\n",
              "      border-top-color: var(--fill-color);\n",
              "    }\n",
              "    30% {\n",
              "      border-color: transparent;\n",
              "      border-left-color: var(--fill-color);\n",
              "      border-top-color: var(--fill-color);\n",
              "      border-right-color: var(--fill-color);\n",
              "    }\n",
              "    40% {\n",
              "      border-color: transparent;\n",
              "      border-right-color: var(--fill-color);\n",
              "      border-top-color: var(--fill-color);\n",
              "    }\n",
              "    60% {\n",
              "      border-color: transparent;\n",
              "      border-right-color: var(--fill-color);\n",
              "    }\n",
              "    80% {\n",
              "      border-color: transparent;\n",
              "      border-right-color: var(--fill-color);\n",
              "      border-bottom-color: var(--fill-color);\n",
              "    }\n",
              "    90% {\n",
              "      border-color: transparent;\n",
              "      border-bottom-color: var(--fill-color);\n",
              "    }\n",
              "  }\n",
              "</style>\n",
              "\n",
              "  <script>\n",
              "    async function quickchart(key) {\n",
              "      const quickchartButtonEl =\n",
              "        document.querySelector('#' + key + ' button');\n",
              "      quickchartButtonEl.disabled = true;  // To prevent multiple clicks.\n",
              "      quickchartButtonEl.classList.add('colab-df-spinner');\n",
              "      try {\n",
              "        const charts = await google.colab.kernel.invokeFunction(\n",
              "            'suggestCharts', [key], {});\n",
              "      } catch (error) {\n",
              "        console.error('Error during call to suggestCharts:', error);\n",
              "      }\n",
              "      quickchartButtonEl.classList.remove('colab-df-spinner');\n",
              "      quickchartButtonEl.classList.add('colab-df-quickchart-complete');\n",
              "    }\n",
              "    (() => {\n",
              "      let quickchartButtonEl =\n",
              "        document.querySelector('#df-19056dc5-f400-4cfb-b56b-5ec3e76c1882 button');\n",
              "      quickchartButtonEl.style.display =\n",
              "        google.colab.kernel.accessAllowed ? 'block' : 'none';\n",
              "    })();\n",
              "  </script>\n",
              "</div>\n",
              "\n",
              "    </div>\n",
              "  </div>\n"
            ],
            "application/vnd.google.colaboratory.intrinsic+json": {
              "type": "dataframe",
              "variable_name": "df",
              "summary": "{\n  \"name\": \"df\",\n  \"rows\": 5668,\n  \"fields\": [\n    {\n      \"column\": \"sentence\",\n      \"properties\": {\n        \"dtype\": \"category\",\n        \"num_unique_values\": 1156,\n        \"samples\": [\n          \"Brokeback Mountain was beautiful.\",\n          \"You know Brokeback Mountain was a stupid movie, because if it was about a guy and a girl, no one would give a shit about it..\",\n          \"So Brokeback Mountain was really depressing.\"\n        ],\n        \"semantic_type\": \"\",\n        \"description\": \"\"\n      }\n    },\n    {\n      \"column\": \"label\",\n      \"properties\": {\n        \"dtype\": \"number\",\n        \"std\": 0,\n        \"min\": 0,\n        \"max\": 1,\n        \"num_unique_values\": 2,\n        \"samples\": [\n          1,\n          0\n        ],\n        \"semantic_type\": \"\",\n        \"description\": \"\"\n      }\n    }\n  ]\n}"
            }
          },
          "metadata": {},
          "execution_count": 2
        }
      ]
    },
    {
      "cell_type": "code",
      "source": [
        "# Split the data into train, validation and test data\n",
        "train_text, temp_text, train_labels, temp_labels = train_test_split(\n",
        "    df['sentence'],\n",
        "    df['label'],\n",
        "    random_state=2024,\n",
        "    test_size=0.3,\n",
        "    stratify=df['label'])\n",
        "val_text, test_text, val_labels, test_labels = train_test_split(\n",
        "    temp_text,\n",
        "    temp_labels,\n",
        "    random_state=2024,\n",
        "    test_size=0.5,\n",
        "    stratify=temp_labels)"
      ],
      "metadata": {
        "id": "2wxSqRLgC5_O"
      },
      "execution_count": 3,
      "outputs": []
    },
    {
      "cell_type": "code",
      "source": [
        "# Load model and tokenizer\n",
        "bert = AutoModel.from_pretrained('bert-base-uncased')\n",
        "tokenizer = BertTokenizerFast.from_pretrained('bert-base-uncased')"
      ],
      "metadata": {
        "id": "B2DE9vpkFmDH",
        "colab": {
          "base_uri": "https://localhost:8080/"
        },
        "outputId": "2499900e-468a-4831-de0b-9f1bc506a7df"
      },
      "execution_count": 4,
      "outputs": [
        {
          "output_type": "stream",
          "name": "stderr",
          "text": [
            "/usr/local/lib/python3.10/dist-packages/huggingface_hub/utils/_token.py:88: UserWarning: \n",
            "The secret `HF_TOKEN` does not exist in your Colab secrets.\n",
            "To authenticate with the Hugging Face Hub, create a token in your settings tab (https://huggingface.co/settings/tokens), set it as secret in your Google Colab and restart your session.\n",
            "You will be able to reuse this secret in all of your notebooks.\n",
            "Please note that authentication is recommended but still optional to access public models or datasets.\n",
            "  warnings.warn(\n"
          ]
        }
      ]
    },
    {
      "cell_type": "code",
      "source": [
        "# Determine padding length\n",
        "train_lens = [len(i.split()) for i in train_text]\n",
        "plt.hist(train_lens)"
      ],
      "metadata": {
        "colab": {
          "base_uri": "https://localhost:8080/",
          "height": 502
        },
        "id": "Y4aejqjDGhpL",
        "outputId": "03abd0b0-30b6-43eb-9cc6-de7b4c38d8c0"
      },
      "execution_count": 5,
      "outputs": [
        {
          "output_type": "execute_result",
          "data": {
            "text/plain": [
              "(array([1467.,  721.,  570.,  533.,  159.,  218.,  117.,   61.,  115.,\n",
              "           6.]),\n",
              " array([ 3. ,  6.5, 10. , 13.5, 17. , 20.5, 24. , 27.5, 31. , 34.5, 38. ]),\n",
              " <BarContainer object of 10 artists>)"
            ]
          },
          "metadata": {},
          "execution_count": 5
        },
        {
          "output_type": "display_data",
          "data": {
            "text/plain": [
              "<Figure size 640x480 with 1 Axes>"
            ],
            "image/png": "[encoded data removed]"
          },
          "metadata": {}
        }
      ]
    },
    {
      "cell_type": "code",
      "source": [
        "# tokenize and encode sequences\n",
        "pad_len = 17\n",
        "tokens_train = tokenizer.batch_encode_plus(\n",
        "    train_text.tolist(),\n",
        "    max_length=pad_len,\n",
        "    truncation=True,\n",
        "    padding=True\n",
        "    )\n",
        "tokens_val = tokenizer.batch_encode_plus(\n",
        "    val_text.tolist(),\n",
        "    max_length=pad_len,\n",
        "    truncation=True,\n",
        "    padding=True\n",
        "    )\n",
        "tokens_test = tokenizer.batch_encode_plus(\n",
        "    test_text.tolist(),\n",
        "    max_length=pad_len,\n",
        "    truncation=True,\n",
        "    padding=True\n",
        "    )\n",
        "\n",
        "tokens_train.keys()"
      ],
      "metadata": {
        "id": "u9_qwJ2pHatv",
        "colab": {
          "base_uri": "https://localhost:8080/"
        },
        "outputId": "e25e3405-50f3-4f53-a545-7f78e3cf2cc1"
      },
      "execution_count": 6,
      "outputs": [
        {
          "output_type": "execute_result",
          "data": {
            "text/plain": [
              "dict_keys(['input_ids', 'token_type_ids', 'attention_mask'])"
            ]
          },
          "metadata": {},
          "execution_count": 6
        }
      ]
    },
    {
      "cell_type": "code",
      "source": [
        "train_seq = torch.tensor(tokens_train['input_ids'])\n",
        "train_mask = torch.tensor(tokens_train['attention_mask'])\n",
        "train_y = torch.tensor(train_labels.tolist())\n",
        "\n",
        "val_seq = torch.tensor(tokens_val['input_ids'])\n",
        "val_mask = torch.tensor(tokens_val['attention_mask'])\n",
        "val_y = torch.tensor(val_labels.tolist())"
      ],
      "metadata": {
        "id": "k6UvV_yqNNud"
      },
      "execution_count": 7,
      "outputs": []
    },
    {
      "cell_type": "code",
      "source": [
        "train_dataset = torch.utils.data.TensorDataset(train_seq, train_mask, train_y)\n",
        "val_dataset = torch.utils.data.TensorDataset(val_seq, val_mask, val_y)"
      ],
      "metadata": {
        "id": "8Vc_fQ0Amkxt"
      },
      "execution_count": 8,
      "outputs": []
    },
    {
      "cell_type": "code",
      "source": [
        "train_dataset[0]"
      ],
      "metadata": {
        "colab": {
          "base_uri": "https://localhost:8080/"
        },
        "id": "jygj-IoLmreM",
        "outputId": "c6e35ca8-d4a2-406b-e74a-dab1207e5a2f"
      },
      "execution_count": 9,
      "outputs": [
        {
          "output_type": "execute_result",
          "data": {
            "text/plain": [
              "(tensor([  101,  1996,  2466,  1997,  4302, 10693,  2003,  1037,  2784,  1998,\n",
              "         13769,  2028,  1010,  1998,  1045,  2293,   102]),\n",
              " tensor([1, 1, 1, 1, 1, 1, 1, 1, 1, 1, 1, 1, 1, 1, 1, 1, 1]),\n",
              " tensor(1))"
            ]
          },
          "metadata": {},
          "execution_count": 9
        }
      ]
    },
    {
      "cell_type": "code",
      "source": [
        "# Defining the model (freeze pretained layers and add new layers)\n",
        "\n",
        "# Freeze the pretrained layers\n",
        "for param in bert.parameters():\n",
        "    param.requires_grad = False\n",
        "\n",
        "# Define new layers\n",
        "class BERT_architecture(nn.Module):\n",
        "  \"\"\"\n",
        "  BERT_architecture\n",
        "  \"\"\"\n",
        "  def __init__(self, bert):\n",
        "    \"\"\"\n",
        "    Constructor\n",
        "    \"\"\"\n",
        "    super().__init__()\n",
        "    self.bert = bert\n",
        "    # dropout layer\n",
        "    self.dropout = nn.Dropout(p=0.1)\n",
        "    # relu activation function\n",
        "    self.relu =  nn.ReLU()\n",
        "    # dense layer\n",
        "    self.fc1 = nn.Linear(768,512)\n",
        "    self.fc2 = nn.Linear(512,2) # output layer\n",
        "    # softmax activation function\n",
        "    self.softmax = nn.LogSoftmax(dim=1)\n",
        "\n",
        "  # Define the forward pass\n",
        "  def forward(self, sent_id, mask):\n",
        "    \"\"\"\n",
        "    Forward pass\n",
        "    \"\"\"\n",
        "    # Pass the inputs to the model\n",
        "    _, cls_hs = self.bert(sent_id, attention_mask=mask, return_dict=False)\n",
        "    #import pdb; pdb.set_trace()\n",
        "    x = self.fc1(cls_hs)\n",
        "    x = self.relu(x)\n",
        "    x = self.dropout(x)\n",
        "    x = self.fc2(x) # output layer\n",
        "    x = self.softmax(x)\n",
        "    return x"
      ],
      "metadata": {
        "id": "Vp1e0qQoNrdV"
      },
      "execution_count": 12,
      "outputs": []
    },
    {
      "cell_type": "code",
      "source": [
        "device = torch.device('cuda:0')\n",
        "device"
      ],
      "metadata": {
        "colab": {
          "base_uri": "https://localhost:8080/"
        },
        "id": "OMr50ED32MGP",
        "outputId": "86833f87-d204-4ad5-f6aa-7a2216431775"
      },
      "execution_count": 13,
      "outputs": [
        {
          "output_type": "execute_result",
          "data": {
            "text/plain": [
              "device(type='cuda', index=0)"
            ]
          },
          "metadata": {},
          "execution_count": 13
        }
      ]
    },
    {
      "cell_type": "code",
      "source": [
        "# Function to train the model\n",
        "def train(n_epochs=10, batch_size=16):\n",
        "  \"\"\"\n",
        "  Train the model\n",
        "  \"\"\"\n",
        "  model.train()\n",
        "  train_dataloader = torch.utils.data.DataLoader(\n",
        "      train_dataset,\n",
        "      batch_size=batch_size,\n",
        "      shuffle=True,\n",
        "  )\n",
        "  n_train = len(train_dataloader)\n",
        "\n",
        "  for epoch in range(1, n_epochs+1):\n",
        "    print(f'Epoch {epoch}: ', end='')\n",
        "    total_loss = 0.0\n",
        "    accuracies = []\n",
        "    n_points = 0\n",
        "\n",
        "    # Iterate over batches\n",
        "    for step, batch in enumerate(train_dataloader):\n",
        "      # Push the batch to GPU\n",
        "      batch = (r.to(device) for r in batch)\n",
        "      sent_id, mask, labels = batch\n",
        "      # Clear out the gradients\n",
        "      optimizer.zero_grad()\n",
        "      # Get model predictions for the current batch\n",
        "      preds = model(sent_id, mask)\n",
        "      # Calculate the classification loss\n",
        "      loss = torch.nn.functional.cross_entropy(preds, labels)\n",
        "      total_loss = total_loss + loss.item()\n",
        "      # Backward pass to calcualte the gradients\n",
        "      loss.backward()\n",
        "      torch.nn.utils.clip_grad_norm_(model.parameters(), 1.0)\n",
        "      # Update parameters and take a step using the computed gradient\n",
        "      optimizer.step()\n",
        "\n",
        "      # Calculate the accuracy\n",
        "      preds = preds.detach().cpu().numpy()\n",
        "      pred_labels = np.argmax(preds, axis=1)\n",
        "      acc = accuracy_score(labels.cpu().numpy(), pred_labels)\n",
        "      accuracies.append(acc * len(preds))\n",
        "      n_points += len(preds)\n",
        "\n",
        "    # Update progress at the end of each epoch\n",
        "    avg_loss = total_loss / n_train\n",
        "    avg_accuracy = np.sum(accuracies) / n_points\n",
        "    print(f'loss={avg_loss:.5f}, accuracy={avg_accuracy:.4f}')\n",
        "\n",
        "  return avg_loss, avg_accuracy"
      ],
      "metadata": {
        "id": "BBRCteuRRQc6"
      },
      "execution_count": 48,
      "outputs": []
    },
    {
      "cell_type": "code",
      "source": [
        "# Instantiate the model and optimizer so that we can train the model\n",
        "model = BERT_architecture(bert).to(device)\n",
        "optimizer = torch.optim.Adam(model.parameters(), lr=1e-4) # lr is learning rate"
      ],
      "metadata": {
        "id": "0G6VQzbmQ6Qu"
      },
      "execution_count": 47,
      "outputs": []
    },
    {
      "cell_type": "code",
      "source": [
        "loss, acc = train(n_epochs=15)\n",
        "print(f'\\nFinal loss: {loss}')\n",
        "print(f'Final accuracy: {acc}')"
      ],
      "metadata": {
        "colab": {
          "base_uri": "https://localhost:8080/"
        },
        "id": "V7wh2sNUkgy8",
        "outputId": "98043cc6-ccb9-47bb-8365-a6636874d052"
      },
      "execution_count": 49,
      "outputs": [
        {
          "output_type": "stream",
          "name": "stdout",
          "text": [
            "Epoch 1: loss=0.66197, accuracy=0.6037\n",
            "Epoch 2: loss=0.59435, accuracy=0.7051\n",
            "Epoch 3: loss=0.52042, accuracy=0.7686\n",
            "Epoch 4: loss=0.45521, accuracy=0.8155\n",
            "Epoch 5: loss=0.40497, accuracy=0.8346\n",
            "Epoch 6: loss=0.35738, accuracy=0.8586\n",
            "Epoch 7: loss=0.31772, accuracy=0.8845\n",
            "Epoch 8: loss=0.29229, accuracy=0.8888\n",
            "Epoch 9: loss=0.28950, accuracy=0.8888\n",
            "Epoch 10: loss=0.26626, accuracy=0.9004\n",
            "Epoch 11: loss=0.25323, accuracy=0.9045\n",
            "Epoch 12: loss=0.23273, accuracy=0.9130\n",
            "Epoch 13: loss=0.23815, accuracy=0.9024\n",
            "Epoch 14: loss=0.22955, accuracy=0.9123\n",
            "Epoch 15: loss=0.20455, accuracy=0.9231\n",
            "\n",
            "Final loss: 0.2045519855324059\n",
            "Final accuracy: 0.9231157045626418\n"
          ]
        }
      ]
    },
    {
      "cell_type": "code",
      "source": [
        "# Function to evaluate the model on validation data\n",
        "def evaluate():\n",
        "  \"\"\"\n",
        "  Evaluate the model\n",
        "  \"\"\"\n",
        "  print(\"\\nEvaluating...\")\n",
        "  # Deactivate dropout layers\n",
        "  model.eval()\n",
        "\n",
        "  total_loss, total_accuracy = 0, 0\n",
        "  total_preds = []\n",
        "\n",
        "  val_dataloader = torch.utils.data.DataLoader(\n",
        "      val_dataset,\n",
        "      batch_size=32,\n",
        "      shuffle=False,\n",
        "  )\n",
        "\n",
        "  # Iterate over batches\n",
        "  for step, batch in enumerate(val_dataloader):\n",
        "    # Progress update every 40 batches\n",
        "    if step % 40 == 0 and not step == 0:\n",
        "      print('Batch %s of %s' % (step + 1, len(val_dataloader)))\n",
        "\n",
        "    # Push the batch to GPU\n",
        "    batch = [r.to(device) for r in batch]\n",
        "    sent_id, mask, labels = batch\n",
        "    # Clear autograd\n",
        "    with torch.no_grad():\n",
        "      preds = model(sent_id, mask)\n",
        "      loss = torch.nn.functional.cross_entropy(preds, labels)\n",
        "      total_loss = total_loss + loss.item()\n",
        "      preds = preds.detach().cpu().numpy()\n",
        "      total_preds.append(preds)\n",
        "\n",
        "  # Calculate the average loss and total accuracy for this epoch\n",
        "  avg_loss = total_loss / len(val_dataloader)\n",
        "  total_preds = np.concatenate(total_preds, axis=0)\n",
        "  return avg_loss, total_preds"
      ],
      "metadata": {
        "id": "rHg_8FqHyjez"
      },
      "execution_count": 53,
      "outputs": []
    },
    {
      "cell_type": "code",
      "source": [
        "avg_loss, total_preds = evaluate()\n",
        "print(f'Validation loss: {avg_loss}')\n",
        "print(f'Predictions:\\n {total_preds}')"
      ],
      "metadata": {
        "colab": {
          "base_uri": "https://localhost:8080/"
        },
        "id": "XE4D4q3noaR5",
        "outputId": "7a168d83-7fbd-4c17-974e-197e0e6dbccf"
      },
      "execution_count": 61,
      "outputs": [
        {
          "output_type": "stream",
          "name": "stdout",
          "text": [
            "\n",
            "Evaluating...\n",
            "Validation loss: 0.17629243129933322\n",
            "Predictions:\n",
            " [[-4.32278641e-04 -7.74655199e+00]\n",
            " [-4.53776419e-02 -3.11533976e+00]\n",
            " [-3.49332047e+00 -3.08714136e-02]\n",
            " ...\n",
            " [-4.46577692e+00 -1.15623595e-02]\n",
            " [-6.97974253e+00 -9.30948707e-04]\n",
            " [-2.30796821e-03 -6.07255554e+00]]\n"
          ]
        }
      ]
    },
    {
      "cell_type": "code",
      "source": [
        "# Display model architecture\n",
        "print(model)"
      ],
      "metadata": {
        "colab": {
          "base_uri": "https://localhost:8080/"
        },
        "id": "pp1Vb4xxgfF7",
        "outputId": "09bf46da-3d66-4b1e-ecf8-fd219ec69cde"
      },
      "execution_count": 110,
      "outputs": [
        {
          "output_type": "stream",
          "name": "stdout",
          "text": [
            "BERT_architecture(\n",
            "  (bert): BertModel(\n",
            "    (embeddings): BertEmbeddings(\n",
            "      (word_embeddings): Embedding(30522, 768, padding_idx=0)\n",
            "      (position_embeddings): Embedding(512, 768)\n",
            "      (token_type_embeddings): Embedding(2, 768)\n",
            "      (LayerNorm): LayerNorm((768,), eps=1e-12, elementwise_affine=True)\n",
            "      (dropout): Dropout(p=0.1, inplace=False)\n",
            "    )\n",
            "    (encoder): BertEncoder(\n",
            "      (layer): ModuleList(\n",
            "        (0-11): 12 x BertLayer(\n",
            "          (attention): BertAttention(\n",
            "            (self): BertSelfAttention(\n",
            "              (query): Linear(in_features=768, out_features=768, bias=True)\n",
            "              (key): Linear(in_features=768, out_features=768, bias=True)\n",
            "              (value): Linear(in_features=768, out_features=768, bias=True)\n",
            "              (dropout): Dropout(p=0.1, inplace=False)\n",
            "            )\n",
            "            (output): BertSelfOutput(\n",
            "              (dense): Linear(in_features=768, out_features=768, bias=True)\n",
            "              (LayerNorm): LayerNorm((768,), eps=1e-12, elementwise_affine=True)\n",
            "              (dropout): Dropout(p=0.1, inplace=False)\n",
            "            )\n",
            "          )\n",
            "          (intermediate): BertIntermediate(\n",
            "            (dense): Linear(in_features=768, out_features=3072, bias=True)\n",
            "            (intermediate_act_fn): GELUActivation()\n",
            "          )\n",
            "          (output): BertOutput(\n",
            "            (dense): Linear(in_features=3072, out_features=768, bias=True)\n",
            "            (LayerNorm): LayerNorm((768,), eps=1e-12, elementwise_affine=True)\n",
            "            (dropout): Dropout(p=0.1, inplace=False)\n",
            "          )\n",
            "        )\n",
            "      )\n",
            "    )\n",
            "    (pooler): BertPooler(\n",
            "      (dense): Linear(in_features=768, out_features=768, bias=True)\n",
            "      (activation): Tanh()\n",
            "    )\n",
            "  )\n",
            "  (dropout): Dropout(p=0.1, inplace=False)\n",
            "  (relu): ReLU()\n",
            "  (fc1): Linear(in_features=768, out_features=512, bias=True)\n",
            "  (fc2): Linear(in_features=512, out_features=2, bias=True)\n",
            "  (softmax): LogSoftmax(dim=1)\n",
            ")\n"
          ]
        }
      ]
    },
    {
      "cell_type": "code",
      "source": [
        "# check if model is in CPU or GPU\n",
        "print(next(model.parameters()).device)"
      ],
      "metadata": {
        "colab": {
          "base_uri": "https://localhost:8080/"
        },
        "id": "4_-JG-P8gi-M",
        "outputId": "64031529-670c-4514-b52c-25c3abac96c5"
      },
      "execution_count": 111,
      "outputs": [
        {
          "output_type": "stream",
          "name": "stdout",
          "text": [
            "cuda:0\n"
          ]
        }
      ]
    },
    {
      "cell_type": "code",
      "source": [
        "val_seq.shape, val_mask.shape"
      ],
      "metadata": {
        "colab": {
          "base_uri": "https://localhost:8080/"
        },
        "id": "VeHzZpE2h723",
        "outputId": "6ce96585-b14b-4874-d0af-6d5d91c0a190"
      },
      "execution_count": 112,
      "outputs": [
        {
          "output_type": "execute_result",
          "data": {
            "text/plain": [
              "(torch.Size([850, 17]), torch.Size([850, 17]))"
            ]
          },
          "metadata": {},
          "execution_count": 112
        }
      ]
    },
    {
      "cell_type": "code",
      "source": [
        "# Test the data\n",
        "with torch.no_grad():\n",
        "  preds = model(val_seq.to(device), val_mask.to(device))\n",
        "  preds = preds.detach().cpu().numpy()\n",
        "\n",
        "preds = np.argmax(preds, axis = 1)\n",
        "print(classification_report(val_y, preds))"
      ],
      "metadata": {
        "colab": {
          "base_uri": "https://localhost:8080/"
        },
        "id": "HNR8RTMjzuXw",
        "outputId": "98f6eebf-f1db-4e22-8f6c-14947dc042b5"
      },
      "execution_count": 50,
      "outputs": [
        {
          "output_type": "stream",
          "name": "stdout",
          "text": [
            "              precision    recall  f1-score   support\n",
            "\n",
            "           0       0.84      0.98      0.90       369\n",
            "           1       0.98      0.85      0.91       481\n",
            "\n",
            "    accuracy                           0.91       850\n",
            "   macro avg       0.91      0.92      0.91       850\n",
            "weighted avg       0.92      0.91      0.91       850\n",
            "\n"
          ]
        }
      ]
    }
  ]
}