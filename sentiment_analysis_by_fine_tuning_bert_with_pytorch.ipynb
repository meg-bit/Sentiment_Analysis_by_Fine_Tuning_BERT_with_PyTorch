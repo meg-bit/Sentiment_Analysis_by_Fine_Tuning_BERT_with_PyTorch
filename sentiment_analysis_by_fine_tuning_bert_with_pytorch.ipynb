{
  "nbformat": 4,
  "nbformat_minor": 0,
  "metadata": {
    "colab": {
      "provenance": [],
      "authorship_tag": "ABX9TyM7bFEiEx17waNaiYe3TWA0"
    },
    "kernelspec": {
      "name": "python3",
      "display_name": "Python 3"
    },
    "language_info": {
      "name": "python"
    }
  },
  "cells": [
    {
      "cell_type": "code",
      "execution_count": null,
      "metadata": {
        "id": "rlpcrs86-HW1"
      },
      "outputs": [],
      "source": [
        "import pandas as pd\n",
        "import numpy as np\n",
        "from sklearn.model_selection import train_test_split\n",
        "from sklearn.metrics inport classification_report\n",
        "from sklearn.metrics import accuracy_score"
      ]
    }
  ]
}